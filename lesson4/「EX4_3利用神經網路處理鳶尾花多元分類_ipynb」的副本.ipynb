{
  "nbformat": 4,
  "nbformat_minor": 0,
  "metadata": {
    "colab": {
      "provenance": [],
      "include_colab_link": true
    },
    "kernelspec": {
      "name": "python3",
      "display_name": "Python 3"
    },
    "language_info": {
      "name": "python"
    }
  },
  "cells": [
    {
      "cell_type": "markdown",
      "metadata": {
        "id": "view-in-github",
        "colab_type": "text"
      },
      "source": [
        "<a href=\"https://colab.research.google.com/github/dngg6688/100-Days-Of-ML-Code/blob/master/lesson4/%E3%80%8CEX4_3%E5%88%A9%E7%94%A8%E7%A5%9E%E7%B6%93%E7%B6%B2%E8%B7%AF%E8%99%95%E7%90%86%E9%B3%B6%E5%B0%BE%E8%8A%B1%E5%A4%9A%E5%85%83%E5%88%86%E9%A1%9E_ipynb%E3%80%8D%E7%9A%84%E5%89%AF%E6%9C%AC.ipynb\" target=\"_parent\"><img src=\"https://colab.research.google.com/assets/colab-badge.svg\" alt=\"Open In Colab\"/></a>"
      ]
    },
    {
      "cell_type": "code",
      "source": [
        "from google.colab import drive\n",
        "drive.mount('/content/drive')"
      ],
      "metadata": {
        "colab": {
          "base_uri": "https://localhost:8080/"
        },
        "id": "fc55ofoksXHg",
        "outputId": "abfa508a-59da-49cd-9378-1e25e47c5d60"
      },
      "execution_count": 1,
      "outputs": [
        {
          "output_type": "stream",
          "name": "stdout",
          "text": [
            "Drive already mounted at /content/drive; to attempt to forcibly remount, call drive.mount(\"/content/drive\", force_remount=True).\n"
          ]
        }
      ]
    },
    {
      "cell_type": "markdown",
      "source": [
        "## 設定目前程式資料夾路徑(務必自行更改)"
      ],
      "metadata": {
        "id": "ZIryTLSKqR_a"
      }
    },
    {
      "cell_type": "code",
      "source": [
        "folder=\"/content/drive/MyDrive/解密AI黑盒子分享/\""
      ],
      "metadata": {
        "id": "vOHgW7QrqQ6x"
      },
      "execution_count": 2,
      "outputs": []
    },
    {
      "cell_type": "markdown",
      "metadata": {
        "id": "dISyRaxAtNpl"
      },
      "source": [
        "## 載入所需套件"
      ]
    },
    {
      "cell_type": "code",
      "metadata": {
        "id": "sef1M29qtXub"
      },
      "source": [
        "import numpy as np\n",
        "import matplotlib.pyplot as plt\n",
        "import matplotlib.font_manager as plt_font\n",
        "twfont1=plt_font.FontProperties(fname=folder+\"字型/kaiu.ttf\")\n",
        "from IPython import display"
      ],
      "execution_count": 3,
      "outputs": []
    },
    {
      "cell_type": "markdown",
      "source": [
        "## 載入pytorch相關套件"
      ],
      "metadata": {
        "id": "qv0CKMDkrHzk"
      }
    },
    {
      "cell_type": "code",
      "source": [
        "import torch\n",
        "#建立神經網路用\n",
        "import torch.nn as nn\n",
        "import torch.nn.functional as F\n",
        "#載入優化器\n",
        "from torch import optim\n",
        "#預處理資料用\n",
        "from torch.utils.data import Dataset,DataLoader"
      ],
      "metadata": {
        "id": "46Atj8WHcS1s"
      },
      "execution_count": 4,
      "outputs": []
    },
    {
      "cell_type": "markdown",
      "metadata": {
        "id": "M0aQJaQ3tq8-"
      },
      "source": [
        "## 建立DataSet類別"
      ]
    },
    {
      "cell_type": "code",
      "metadata": {
        "id": "PPswdTFutoTm"
      },
      "source": [
        "class MyDataset(Dataset):\n",
        "  def __init__(self,Train=True):\n",
        "    data=np.loadtxt(folder+\"資料集/iris_data.csv\",delimiter=\",\")\n",
        "    if Train==True:\n",
        "      data=data[:100]\n",
        "    else:\n",
        "      data=data[100:]\n",
        "    self.data = torch.tensor((data[:,:4]-data[:,:4].mean(axis=0))/data[:,:4].std(axis=0))\n",
        "    self.label = torch.tensor(data[:,4])\n",
        "  def __getitem__(self, index):\n",
        "    return self.data[index], self.label[index]\n",
        "  def __len__(self):\n",
        "    return len(self.data)"
      ],
      "execution_count": 5,
      "outputs": []
    },
    {
      "cell_type": "markdown",
      "source": [
        "## 實體化訓練和測試DataSet和DataLoader"
      ],
      "metadata": {
        "id": "mZ_yY5r-sxB9"
      }
    },
    {
      "cell_type": "code",
      "metadata": {
        "id": "vBN6vN5Fj2xm"
      },
      "source": [
        "TrainDS=MyDataset(Train=True)\n",
        "TestDS=MyDataset(Train=False)\n",
        "TrainDL=DataLoader(dataset=TrainDS,batch_size=50,shuffle=True)\n",
        "TestDL=DataLoader(dataset=TestDS,batch_size=len(TestDS),shuffle=False)"
      ],
      "execution_count": 6,
      "outputs": []
    },
    {
      "cell_type": "markdown",
      "metadata": {
        "id": "8iGQmyALw7Js"
      },
      "source": [
        "## 建立神經網路類別"
      ]
    },
    {
      "cell_type": "code",
      "metadata": {
        "id": "Bm-nOzxgq7oW"
      },
      "source": [
        "class Net(nn.Module):\n",
        "  def __init__(self):\n",
        "    super().__init__()\n",
        "    self.fc1=nn.Linear(4,32)\n",
        "    self.fc2=nn.Linear(32,16)\n",
        "    self.fc3=nn.Linear(16,3)\n",
        "\n",
        "  def forward(self,x):\n",
        "    x=F.relu(self.fc1(x))\n",
        "    x=F.relu(self.fc2(x))\n",
        "    x=self.fc3(x)\n",
        "\n",
        "    return x"
      ],
      "execution_count": 7,
      "outputs": []
    },
    {
      "cell_type": "markdown",
      "source": [
        "## 實體化神經網路，指定損失函數和優化器"
      ],
      "metadata": {
        "id": "DQ21hfYcuAok"
      }
    },
    {
      "cell_type": "code",
      "source": [
        "net=Net()\n",
        "optimizer = optim.SGD(net.parameters(), lr=0.1)\n",
        "LossFun=nn.CrossEntropyLoss()\n",
        "Step_L=[]"
      ],
      "metadata": {
        "id": "NIH20ua1ub0Q"
      },
      "execution_count": 8,
      "outputs": []
    },
    {
      "cell_type": "markdown",
      "metadata": {
        "id": "RZdMCvmzSEQV"
      },
      "source": [
        "## 開始訓練神經網路"
      ]
    },
    {
      "cell_type": "code",
      "metadata": {
        "id": "K95OiWvQSGJ4",
        "colab": {
          "base_uri": "https://localhost:8080/"
        },
        "outputId": "10359ff8-914e-461c-9158-6b130e771ecb"
      },
      "source": [
        "net.train()\n",
        "for epoch in range(1000):\n",
        "  for data,label in TrainDL:\n",
        "    optimizer.zero_grad()\n",
        "    Yh=net(data.float())\n",
        "    loss=LossFun(Yh,label.long())#資料丟到cross entropy 因為要做one hot 所以資料一定要整數 在pytorch整數表示為long\n",
        "    Step_L.append(float(loss))\n",
        "    loss.backward()\n",
        "    optimizer.step()\n",
        "  print(\"訓練回合：\",epoch+1,\"損失值：\",loss)\n",
        "  display.clear_output(wait=True)"
      ],
      "execution_count": 9,
      "outputs": [
        {
          "output_type": "stream",
          "name": "stdout",
          "text": [
            "訓練回合： 1000 損失值： tensor(0.0061, grad_fn=<NllLossBackward0>)\n"
          ]
        }
      ]
    },
    {
      "cell_type": "markdown",
      "metadata": {
        "id": "ROvtSmfpti2D"
      },
      "source": [
        "## 觀察訓練過程中的損失函數Loss變化"
      ]
    },
    {
      "cell_type": "code",
      "metadata": {
        "id": "w7jeFCtEty20",
        "colab": {
          "base_uri": "https://localhost:8080/",
          "height": 504
        },
        "outputId": "3509cc58-6672-4eb1-d914-3d6fba134621"
      },
      "source": [
        "plt.figure(figsize=(8,5))\n",
        "plt.title(\"Loss隨訓練次數的變化\",fontproperties=twfont1,fontsize=20)\n",
        "plt.xlabel(\"訓練次數\",fontproperties=twfont1,fontsize=20)\n",
        "plt.ylabel(\"Loss值\",fontproperties=twfont1,fontsize=20)\n",
        "plt.plot(Step_L,\":o\")\n",
        "plt.show()"
      ],
      "execution_count": 10,
      "outputs": [
        {
          "output_type": "display_data",
          "data": {
            "text/plain": [
              "<Figure size 800x500 with 1 Axes>"
            ],
            "image/png": "[encoded data removed]"
          },
          "metadata": {}
        }
      ]
    },
    {
      "cell_type": "code",
      "metadata": {
        "id": "8ASOBOH_aKtt",
        "colab": {
          "base_uri": "https://localhost:8080/"
        },
        "outputId": "28bf5744-6095-421e-d573-14ee2e5a80f0"
      },
      "source": [
        "net.eval()\n",
        "with torch.no_grad():\n",
        "  data,label=next(TestDL.__iter__())\n",
        "  output = net(data.float())\n",
        "print(\"驗證資料準確度：\",(torch.argmax(output,dim=1)==label).sum().item()*100/len(TestDS),\"%\")"
      ],
      "execution_count": 11,
      "outputs": [
        {
          "output_type": "stream",
          "name": "stdout",
          "text": [
            "驗證資料準確度： 98.0 %\n"
          ]
        }
      ]
    }
  ]
}