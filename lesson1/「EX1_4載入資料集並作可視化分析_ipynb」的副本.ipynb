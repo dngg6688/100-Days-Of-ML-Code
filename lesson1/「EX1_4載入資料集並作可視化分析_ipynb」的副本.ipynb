{
  "nbformat": 4,
  "nbformat_minor": 0,
  "metadata": {
    "colab": {
      "provenance": [],
      "include_colab_link": true
    },
    "kernelspec": {
      "name": "python3",
      "display_name": "Python 3"
    },
    "language_info": {
      "name": "python"
    }
  },
  "cells": [
    {
      "cell_type": "markdown",
      "metadata": {
        "id": "view-in-github",
        "colab_type": "text"
      },
      "source": [
        "<a href=\"https://colab.research.google.com/github/dngg6688/100-Days-Of-ML-Code/blob/master/lesson1/%E3%80%8CEX1_4%E8%BC%89%E5%85%A5%E8%B3%87%E6%96%99%E9%9B%86%E4%B8%A6%E4%BD%9C%E5%8F%AF%E8%A6%96%E5%8C%96%E5%88%86%E6%9E%90_ipynb%E3%80%8D%E7%9A%84%E5%89%AF%E6%9C%AC.ipynb\" target=\"_parent\"><img src=\"https://colab.research.google.com/assets/colab-badge.svg\" alt=\"Open In Colab\"/></a>"
      ]
    },
    {
      "cell_type": "code",
      "source": [
        "from google.colab import drive\n",
        "drive.mount('/content/drive')"
      ],
      "metadata": {
        "id": "IIVlNLYLRH1R",
        "colab": {
          "base_uri": "https://localhost:8080/"
        },
        "outputId": "2c31cda9-6d70-43a7-dfa4-28f4cc541a50"
      },
      "execution_count": null,
      "outputs": [
        {
          "output_type": "stream",
          "name": "stdout",
          "text": [
            "Mounted at /content/drive\n"
          ]
        }
      ]
    },
    {
      "cell_type": "markdown",
      "source": [
        "## 設定目前程式資料夾路徑(務必自行更改)"
      ],
      "metadata": {
        "id": "u8Fq6oUAROQo"
      }
    },
    {
      "cell_type": "code",
      "source": [
        "folder=\"/content/drive/MyDrive/解密AI黑盒子分享/\""
      ],
      "metadata": {
        "id": "QWXC094ERPU4"
      },
      "execution_count": null,
      "outputs": []
    },
    {
      "cell_type": "markdown",
      "source": [
        "## 載入所需套件"
      ],
      "metadata": {
        "id": "YzoE4EcgRYV4"
      }
    },
    {
      "cell_type": "code",
      "execution_count": null,
      "metadata": {
        "id": "4pXqfFWkIduq"
      },
      "outputs": [],
      "source": [
        "#數據、矩陣處理套件numpy\n",
        "import numpy as np\n",
        "#繪圖處理套件matplotlib\n",
        "import matplotlib.pyplot as plt\n",
        "#繪圖處理套件顯示中文matplotlib.font_manager\n",
        "import matplotlib.font_manager as plt_font\n",
        "#設定中文字體物件和字型檔案路徑\n",
        "twfont1=plt_font.FontProperties(fname=folder+\"字型/kaiu.ttf\")"
      ]
    },
    {
      "cell_type": "markdown",
      "source": [
        "## 從檔案讀取資料集"
      ],
      "metadata": {
        "id": "Tl4MUpyHRkkX"
      }
    },
    {
      "cell_type": "code",
      "source": [
        "data=np.loadtxt(folder+\"資料集/SalesVolume.csv\",delimiter=\",\")"
      ],
      "metadata": {
        "id": "ypiQRBmtJAfr"
      },
      "execution_count": null,
      "outputs": []
    },
    {
      "cell_type": "code",
      "source": [
        "data"
      ],
      "metadata": {
        "colab": {
          "base_uri": "https://localhost:8080/"
        },
        "id": "HXVlogORLEgy",
        "outputId": "08976d83-3f82-44fa-a2c7-efdbbca073da"
      },
      "execution_count": null,
      "outputs": [
        {
          "output_type": "execute_result",
          "data": {
            "text/plain": [
              "array([[ 24.,  22.,  15.,   4.,   9.,  20.,   5.,   3.,  17.,  19.,  13.,\n",
              "         10.,  12.,  11.,  16.,  27.,  16.,  16.,   6.,  20.],\n",
              "       [591., 543., 410., 310., 319., 520., 338., 330., 501., 508., 399.,\n",
              "        331., 390., 390., 431., 660., 409., 430., 323., 524.]])"
            ]
          },
          "metadata": {},
          "execution_count": 7
        }
      ]
    },
    {
      "cell_type": "code",
      "source": [
        "data.shape"
      ],
      "metadata": {
        "colab": {
          "base_uri": "https://localhost:8080/"
        },
        "id": "Isofy-PGLkKx",
        "outputId": "52976a0d-3561-4c5f-c873-f9a7b7f357b9"
      },
      "execution_count": null,
      "outputs": [
        {
          "output_type": "execute_result",
          "data": {
            "text/plain": [
              "(2, 20)"
            ]
          },
          "metadata": {},
          "execution_count": 8
        }
      ]
    },
    {
      "cell_type": "markdown",
      "source": [
        "## 分割自變數資料(特徵資料)和依變數資料(標籤資料)"
      ],
      "metadata": {
        "id": "2eprOU_ZSpgw"
      }
    },
    {
      "cell_type": "code",
      "source": [
        "data_x=data[0]\n",
        "data_y=data[1]"
      ],
      "metadata": {
        "id": "MOxnE5MiTNFK"
      },
      "execution_count": null,
      "outputs": []
    },
    {
      "cell_type": "code",
      "source": [
        "data_x"
      ],
      "metadata": {
        "colab": {
          "base_uri": "https://localhost:8080/"
        },
        "id": "q1hubDEtMa7_",
        "outputId": "c234dd28-c45b-4d94-f129-ca330c1e6ddb"
      },
      "execution_count": null,
      "outputs": [
        {
          "output_type": "execute_result",
          "data": {
            "text/plain": [
              "array([24., 22., 15.,  4.,  9., 20.,  5.,  3., 17., 19., 13., 10., 12.,\n",
              "       11., 16., 27., 16., 16.,  6., 20.])"
            ]
          },
          "metadata": {},
          "execution_count": 9
        }
      ]
    },
    {
      "cell_type": "code",
      "source": [
        "data_y"
      ],
      "metadata": {
        "id": "3RJuQKb9MfBP",
        "outputId": "440e0a2b-d176-426e-d870-269e55258c96",
        "colab": {
          "base_uri": "https://localhost:8080/"
        }
      },
      "execution_count": null,
      "outputs": [
        {
          "output_type": "execute_result",
          "data": {
            "text/plain": [
              "array([591., 543., 410., 310., 319., 520., 338., 330., 501., 508., 399.,\n",
              "       331., 390., 390., 431., 660., 409., 430., 323., 524.])"
            ]
          },
          "metadata": {},
          "execution_count": 10
        }
      ]
    },
    {
      "cell_type": "markdown",
      "source": [
        "## 畫圖做資料可視化分析"
      ],
      "metadata": {
        "id": "jyRPU-bhTjY_"
      }
    },
    {
      "cell_type": "code",
      "source": [
        "plt.figure(figsize=(6,3)) #設定繪圖區大小\n",
        "#繪圖區的標題，設定用中文字體twfont1，字體大小20\n",
        "plt.title(\"銷售量vs廣告次數\",fontproperties=twfont1,fontsize=20)\n",
        "#設定橫軸和縱軸的標題\n",
        "plt.xlabel(\"廣告次數\",fontproperties=twfont1,fontsize=20)\n",
        "plt.ylabel(\"銷售量\",fontproperties=twfont1,fontsize=20)\n",
        "plt.plot(data_x,data_y,\"ro\")\n",
        "plt.legend(prop=twfont1)"
      ],
      "metadata": {
        "id": "BBaH69dCKUCh",
        "colab": {
          "base_uri": "https://localhost:8080/",
          "height": 388
        },
        "outputId": "d2714b12-230f-4636-b156-e0febdeeaa16"
      },
      "execution_count": null,
      "outputs": [
        {
          "output_type": "stream",
          "name": "stderr",
          "text": [
            "WARNING:matplotlib.legend:No artists with labels found to put in legend.  Note that artists whose label start with an underscore are ignored when legend() is called with no argument.\n"
          ]
        },
        {
          "output_type": "execute_result",
          "data": {
            "text/plain": [
              "<matplotlib.legend.Legend at 0x7a50308fa770>"
            ]
          },
          "metadata": {},
          "execution_count": 6
        },
        {
          "output_type": "display_data",
          "data": {
            "text/plain": [
              "<Figure size 600x300 with 1 Axes>"
            ],
            "image/png": "[encoded data removed]"
          },
          "metadata": {}
        }
      ]
    }
  ]
}